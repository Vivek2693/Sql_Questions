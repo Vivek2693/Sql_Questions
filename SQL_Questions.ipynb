{
 "cells": [
  {
   "cell_type": "markdown",
   "id": "23a8296e",
   "metadata": {},
   "source": [
    "### Q1. What is a database? Differentiate between S### QL and NoS### QL databases.\n",
    "\n",
    "A1. A database is a structured collection of data organized for efficient retrieval, storage, and manipulation. It provides mechanisms for defining, ### Querying, updating, and administering the data.\n",
    "\n",
    "S### QL (Structured ### Query Language) databases:\n",
    "\n",
    "S### QL databases are relational databases that store data in tables and use S### QL for ### Querying and managing data.\n",
    "They have a predefined schema, which means the structure of the data is fixed and needs to be defined before inserting data.\n",
    "Examples: MyS### QL, PostgreS### QL, S### QLite, Oracle.\n",
    "NoS### QL (Not Only S### QL) databases:\n",
    "\n",
    "NoS### QL databases are non-relational databases that can store data in various formats like key-value pairs, document-oriented, column-oriented, or graph-based.\n",
    "They are schema-less, allowing flexibility in data storage without re### Quiring a predefined schema.\n",
    "Examples: MongoDB, Cassandra, Redis, Couchbase.\n",
    "### Q2. What is DDL? Explain why CREATE, DROP, ALTER, and TRUNCATE are used with an example.\n",
    "\n",
    "A2. DDL (Data Definition Language) is a subset of S### QL used to define and modify the structure of database objects like tables, indexes, and constraints.\n",
    "\n",
    "CREATE: Used to create new database objects like tables, indexes, or views.\n",
    "Example: CREATE TABLE employees (id INT PRIMARY KEY, name VARCHAR(50));\n",
    "DROP: Used to delete existing database objects like tables or indexes.\n",
    "Example: DROP TABLE employees;\n",
    "ALTER: Used to modify the structure of an existing database object like adding, deleting, or modifying columns in a table.\n",
    "Example: ALTER TABLE employees ADD COLUMN age INT;\n",
    "TRUNCATE: Used to delete all records from a table without deleting the table structure.\n",
    "Example: TRUNCATE TABLE employees;\n",
    "### Q3. What is DML? Explain INSERT, UPDATE, and DELETE with an example.\n",
    "\n",
    "A3. DML (Data Manipulation Language) is a subset of S### QL used to manipulate data stored in the database.\n",
    "\n",
    "INSERT: Used to insert new records into a table.\n",
    "Example: INSERT INTO employees (id, name) VALUES (1, 'John');\n",
    "UPDATE: Used to modify existing records in a table.\n",
    "Example: UPDATE employees SET name = 'Jane' WHERE id = 1;\n",
    "DELETE: Used to delete existing records from a table.\n",
    "Example: DELETE FROM employees WHERE id = 1;\n",
    "### Q4. What is D### QL? Explain SELECT with an example.\n",
    "\n",
    "A4. D### QL (Data ### Query Language) is a subset of S### QL used to retrieve data from a database.\n",
    "\n",
    "SELECT: Used to retrieve data from one or more tables.\n",
    "Example: SELECT * FROM employees;\n",
    "This ### Query retrieves all columns (*) from the employees table.\n",
    "\n",
    "### Q5. Explain Primary Key and Foreign Key.\n",
    "\n",
    "A5.\n",
    "\n",
    "Primary Key: A primary key is a uni### Que identifier for each record in a table. It ensures that each row in the table is uni### Quely identified and cannot contain duplicate values. Typically, primary keys are indexed for faster data retrieval.\n",
    "Foreign Key: A foreign key is a column or group of columns in a table that refers to the primary key of another table. It establishes a relationship between two tables by enforcing referential integrity, ensuring that the values in the foreign key column(s) match the values in the primary key column(s) of the referenced table."
   ]
  },
  {
   "cell_type": "markdown",
   "id": "c0b96fb3",
   "metadata": {},
   "source": [
    "### Q6. Write a Python code to connect MySQL to Python. Explain the cursor() and execute() method.\n",
    "\n"
   ]
  },
  {
   "cell_type": "raw",
   "id": "d9f8f873",
   "metadata": {},
   "source": [
    "import mysql.connector\n",
    "\n",
    "# Connect to MySQL database\n",
    "connection = mysql.connector.connect(\n",
    "    host=\"localhost\",\n",
    "    user=\"username\",\n",
    "    password=\"password\",\n",
    "    database=\"database_name\"\n",
    ")\n",
    "\n",
    "# Create a cursor object\n",
    "cursor = connection.cursor()\n",
    "\n",
    "# Execute SQL query\n",
    "cursor.execute(\"SELECT * FROM employees\")\n",
    "\n",
    "# Fetch results\n",
    "result = cursor.fetchall()\n",
    "\n",
    "# Print results\n",
    "for row in result:\n",
    "    print(row)\n",
    "\n",
    "# Close cursor and connection\n",
    "cursor.close()\n",
    "connection.close()\n"
   ]
  },
  {
   "cell_type": "markdown",
   "id": "b920b072",
   "metadata": {},
   "source": [
    "cursor(): The cursor() method creates a cursor object, which is used to execute S### QL ### Queries and fetch results from the database.\n",
    "execute(): The execute() method is used to execute an S### QL ### Query passed as an argument to the method. It can execute any S### QL statement, including SELECT, INSERT, UPDATE, DELETE, etc.\n",
    "### Q7. Give the order of execution of S### QL clauses in an S### QL ### Query.\n",
    "\n",
    "A7. The typical order of execution of S### QL clauses in an S### QL ### Query is as follows:\n",
    "\n",
    "FROM\n",
    "WHERE\n",
    "GROUP BY\n",
    "HAVING\n",
    "SELECT\n",
    "ORDER BY"
   ]
  },
  {
   "cell_type": "code",
   "execution_count": null,
   "id": "516dbe7a",
   "metadata": {},
   "outputs": [],
   "source": []
  },
  {
   "cell_type": "code",
   "execution_count": null,
   "id": "1453a822",
   "metadata": {},
   "outputs": [],
   "source": []
  }
 ],
 "metadata": {
  "kernelspec": {
   "display_name": "Python 3 (ipykernel)",
   "language": "python",
   "name": "python3"
  },
  "language_info": {
   "codemirror_mode": {
    "name": "ipython",
    "version": 3
   },
   "file_extension": ".py",
   "mimetype": "text/x-python",
   "name": "python",
   "nbconvert_exporter": "python",
   "pygments_lexer": "ipython3",
   "version": "3.10.9"
  }
 },
 "nbformat": 4,
 "nbformat_minor": 5
}
